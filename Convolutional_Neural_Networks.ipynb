{
  "nbformat": 4,
  "nbformat_minor": 0,
  "metadata": {
    "colab": {
      "name": "Convolutional Neural Networks",
      "provenance": [],
      "authorship_tag": "ABX9TyMbEZfl5iperK6uCZW46ki4",
      "include_colab_link": true
    },
    "kernelspec": {
      "name": "python3",
      "display_name": "Python 3"
    },
    "language_info": {
      "name": "python"
    }
  },
  "cells": [
    {
      "cell_type": "markdown",
      "metadata": {
        "id": "view-in-github",
        "colab_type": "text"
      },
      "source": [
        "<a href=\"https://colab.research.google.com/github/RahulDogra-92/Machine-Learning-Scientist/blob/main/Convolutional_Neural_Networks.ipynb\" target=\"_parent\"><img src=\"https://colab.research.google.com/assets/colab-badge.svg\" alt=\"Open In Colab\"/></a>"
      ]
    },
    {
      "cell_type": "markdown",
      "metadata": {
        "id": "akC2DZ8ztOLN"
      },
      "source": [
        "#Convolutions in Pytorch"
      ]
    },
    {
      "cell_type": "code",
      "metadata": {
        "id": "e0APAhBtrh71"
      },
      "source": [
        "import torch\n",
        "import torch.nn.functional as F"
      ],
      "execution_count": 2,
      "outputs": []
    },
    {
      "cell_type": "code",
      "metadata": {
        "id": "Wc6knaNEr5Jg"
      },
      "source": [
        "image = torch.rand(16,3,32,32)\n",
        "filter = torch.rand(1,3,5,5)\n",
        "out_feat_F = F.conv2d(image, filter, stride=1, padding=0)"
      ],
      "execution_count": 3,
      "outputs": []
    },
    {
      "cell_type": "code",
      "metadata": {
        "colab": {
          "base_uri": "https://localhost:8080/"
        },
        "id": "ux5sfyy-sXVU",
        "outputId": "003e462f-635e-45f1-db80-eaa6e9a0d44d"
      },
      "source": [
        "print(out_feat_F.shape)"
      ],
      "execution_count": 5,
      "outputs": [
        {
          "output_type": "stream",
          "text": [
            "torch.Size([16, 1, 28, 28])\n"
          ],
          "name": "stdout"
        }
      ]
    },
    {
      "cell_type": "markdown",
      "metadata": {
        "id": "rIPr7ed1tkMj"
      },
      "source": [
        "#Convolution operator - Functional way\n",
        "how to build convolutional layers using functional package."
      ]
    },
    {
      "cell_type": "code",
      "metadata": {
        "colab": {
          "base_uri": "https://localhost:8080/"
        },
        "id": "sgsKmFUesZ9i",
        "outputId": "1e4e8554-f8f5-43e7-8a55-1064d8e9b67a"
      },
      "source": [
        "# Create 10 random images\n",
        "image = torch.rand(10, 1, 28, 28)\n",
        "\n",
        "# Create 6 filters\n",
        "filters = torch.rand(6, 1, 3, 3)\n",
        "\n",
        "# Convolve the image with the filters\n",
        "output_feature = F.conv2d(image, filters, stride=1, padding=1)\n",
        "print(output_feature.shape)"
      ],
      "execution_count": 8,
      "outputs": [
        {
          "output_type": "stream",
          "text": [
            "torch.Size([10, 6, 28, 28])\n"
          ],
          "name": "stdout"
        }
      ]
    },
    {
      "cell_type": "markdown",
      "metadata": {
        "id": "paRCQ2fBunbu"
      },
      "source": [
        "#Max-pooling in Pytorch"
      ]
    },
    {
      "cell_type": "code",
      "metadata": {
        "id": "Th_vtzkZuMm9"
      },
      "source": [
        "import torch\n",
        "import torch.nn.functional as F"
      ],
      "execution_count": 9,
      "outputs": []
    },
    {
      "cell_type": "code",
      "metadata": {
        "colab": {
          "base_uri": "https://localhost:8080/"
        },
        "id": "rBOy2Guouwkv",
        "outputId": "01f3d274-a31b-4a22-83fc-754483e7df59"
      },
      "source": [
        "im = torch.Tensor([[[[3, 1, 3, 5], [6, 0, 7, 9],\n",
        "                     [3, 2, 1, 4], [0, 2, 4, 3]]]])\n",
        "\n",
        "output_feature_F = F.max_pool2d(im, 2)\n",
        "print(output_feature_F)"
      ],
      "execution_count": 11,
      "outputs": [
        {
          "output_type": "stream",
          "text": [
            "tensor([[[[6., 9.],\n",
            "          [3., 4.]]]])\n"
          ],
          "name": "stdout"
        },
        {
          "output_type": "stream",
          "text": [
            "/usr/local/lib/python3.7/dist-packages/torch/nn/functional.py:718: UserWarning: Named tensors and all their associated APIs are an experimental feature and subject to change. Please do not use them for anything important until they are released as stable. (Triggered internally at  /pytorch/c10/core/TensorImpl.h:1156.)\n",
            "  return torch.max_pool2d(input, kernel_size, stride, padding, dilation, ceil_mode)\n"
          ],
          "name": "stderr"
        }
      ]
    },
    {
      "cell_type": "code",
      "metadata": {
        "colab": {
          "base_uri": "https://localhost:8080/"
        },
        "id": "eXsMO2w2vBnO",
        "outputId": "d3f4fc34-5d44-4e6e-d51d-6aad867fc641"
      },
      "source": [
        "im = torch.Tensor([[[[3, 1, 3, 5], [6, 0, 7, 9],\n",
        "                     [3, 2, 1, 4], [0, 2, 4, 3]]]])\n",
        "\n",
        "output_feature_F = F.avg_pool2d(im, 2)\n",
        "print(output_feature_F)"
      ],
      "execution_count": 15,
      "outputs": [
        {
          "output_type": "stream",
          "text": [
            "tensor([[[[2.5000, 6.0000],\n",
            "          [1.7500, 3.0000]]]])\n"
          ],
          "name": "stdout"
        }
      ]
    },
    {
      "cell_type": "markdown",
      "metadata": {
        "id": "mQpEjJhawCVW"
      },
      "source": [
        "#Max-pooling operator"
      ]
    },
    {
      "cell_type": "code",
      "metadata": {
        "colab": {
          "base_uri": "https://localhost:8080/"
        },
        "id": "YjKi6ueNvXHo",
        "outputId": "de7c3217-b361-40ef-f3d7-a16b708543de"
      },
      "source": [
        "# Build a pooling operator with size `2`.\n",
        "max_pooling = torch.nn.MaxPool2d(2)\n",
        "\n",
        "# Apply the pooling operator\n",
        "output_feature = max_pooling(im)\n",
        "\n",
        "# Use pooling operator in the image\n",
        "output_feature_F = F.max_pool2d(im, 2)\n",
        "\n",
        "# print the results of both cases\n",
        "print(output_feature)\n",
        "print(output_feature_F)"
      ],
      "execution_count": 18,
      "outputs": [
        {
          "output_type": "stream",
          "text": [
            "tensor([[[[6., 9.],\n",
            "          [3., 4.]]]])\n",
            "tensor([[[[6., 9.],\n",
            "          [3., 4.]]]])\n"
          ],
          "name": "stdout"
        }
      ]
    },
    {
      "cell_type": "markdown",
      "metadata": {
        "id": "Di17evimxSJk"
      },
      "source": [
        "#Average-pooling operator"
      ]
    },
    {
      "cell_type": "code",
      "metadata": {
        "colab": {
          "base_uri": "https://localhost:8080/"
        },
        "id": "ofgwiC6CwnJw",
        "outputId": "2ff17154-6faa-44ec-c29f-21cc6ae223a3"
      },
      "source": [
        "# Build a pooling operator with size `2`.\n",
        "avg_pooling = torch.nn.AvgPool2d(2)\n",
        "\n",
        "# Apply the pooling operator\n",
        "output_feature = avg_pooling(im)\n",
        "\n",
        "# Use pooling operator in the image\n",
        "output_feature_F = F.avg_pool2d(im, 2)\n",
        "\n",
        "# print the results of both cases\n",
        "print(output_feature)\n",
        "print(output_feature_F)"
      ],
      "execution_count": 19,
      "outputs": [
        {
          "output_type": "stream",
          "text": [
            "tensor([[[[2.5000, 6.0000],\n",
            "          [1.7500, 3.0000]]]])\n",
            "tensor([[[[2.5000, 6.0000],\n",
            "          [1.7500, 3.0000]]]])\n"
          ],
          "name": "stdout"
        }
      ]
    },
    {
      "cell_type": "markdown",
      "metadata": {
        "id": "3AldEKH0xb3f"
      },
      "source": [
        "#Convolutional Neural Networks"
      ]
    },
    {
      "cell_type": "code",
      "metadata": {
        "id": "sJ4g4AMVxVwr"
      },
      "source": [
        "class Net(nn.Module):\n",
        "  def__init__(self):\n",
        "    super(Net,self).__init__()\n",
        "\n",
        "    self.conv1 = nn"
      ],
      "execution_count": null,
      "outputs": []
    }
  ]
}