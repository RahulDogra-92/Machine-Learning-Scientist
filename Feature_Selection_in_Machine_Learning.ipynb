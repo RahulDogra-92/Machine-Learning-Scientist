{
  "nbformat": 4,
  "nbformat_minor": 0,
  "metadata": {
    "colab": {
      "name": "Feature Selection in Machine Learning",
      "provenance": [],
      "authorship_tag": "ABX9TyO8N5MWwSWDjupNK/jqIZUR",
      "include_colab_link": true
    },
    "kernelspec": {
      "name": "python3",
      "display_name": "Python 3"
    },
    "language_info": {
      "name": "python"
    }
  },
  "cells": [
    {
      "cell_type": "markdown",
      "metadata": {
        "id": "view-in-github",
        "colab_type": "text"
      },
      "source": [
        "<a href=\"https://colab.research.google.com/github/RahulDogra-92/Machine-Learning-Scientist/blob/main/Feature_Selection_in_Machine_Learning.ipynb\" target=\"_parent\"><img src=\"https://colab.research.google.com/assets/colab-badge.svg\" alt=\"Open In Colab\"/></a>"
      ]
    },
    {
      "cell_type": "markdown",
      "metadata": {
        "id": "g9RMSpR7EqPk"
      },
      "source": [
        "Feature selection is a technique where we choose those features in our data that contribute most to the target variable. In other words we choose the best predictors for the target variable.\n",
        "\n",
        "The classes in the sklearn.feature_selection module can be used for feature selection/dimensionality reduction on sample sets, either to improve estimators’ accuracy scores or to boost their performance on very high-dimensional datasets.\n",
        "\n",
        "Advantage: Refer this link for a nice article on this by Jason Brownlee\n",
        "\n",
        " - Reduces Overfitting: Less redundant data means less possibility of making decisions based on redundant data/noise.\n",
        "\n",
        " - Improves Accuracy: Less misleading data means modeling accuracy improves.\n",
        "\n",
        " - Reduces Training Time: Less data means that algorithms train faster."
      ]
    },
    {
      "cell_type": "markdown",
      "metadata": {
        "id": "FSBR0Kc08Y2t"
      },
      "source": [
        "#Imports\n"
      ]
    },
    {
      "cell_type": "code",
      "metadata": {
        "id": "oEqddVuc8cjO"
      },
      "source": [
        "import pandas as pd\n",
        "import numpy as np"
      ],
      "execution_count": 85,
      "outputs": []
    },
    {
      "cell_type": "code",
      "metadata": {
        "id": "be9U8DoW8eGt"
      },
      "source": [
        "data_reg = pd.read_csv('/content/50_Startups.csv') # for regression problem\n",
        "data_clf = pd.read_csv('/content/Iris.csv') # for classification problem\n"
      ],
      "execution_count": 86,
      "outputs": []
    },
    {
      "cell_type": "code",
      "metadata": {
        "colab": {
          "base_uri": "https://localhost:8080/"
        },
        "id": "o0E8X9xq_lhp",
        "outputId": "1dfb165e-16cd-4faa-a112-e324fc461b32"
      },
      "source": [
        "# Check first five datapoints by using head() method\n",
        "print(data_clf.head(2))\n",
        "print(data_reg.head(2))\n"
      ],
      "execution_count": 87,
      "outputs": [
        {
          "output_type": "stream",
          "text": [
            "   Id  SepalLengthCm  SepalWidthCm  PetalLengthCm  PetalWidthCm      Species\n",
            "0   1            5.1           3.5            1.4           0.2  Iris-setosa\n",
            "1   2            4.9           3.0            1.4           0.2  Iris-setosa\n",
            "   R&D Spend  Administration  Marketing Spend       State     Profit\n",
            "0   165349.2       136897.80        471784.10    New York  192261.83\n",
            "1   162597.7       151377.59        443898.53  California  191792.06\n"
          ],
          "name": "stdout"
        }
      ]
    },
    {
      "cell_type": "code",
      "metadata": {
        "id": "XSqoeyUkD4-9"
      },
      "source": [
        "data_clf=data_clf.drop(['Id'],axis=1)\n",
        "data_reg=data_reg.drop(['State'],axis=1)"
      ],
      "execution_count": 88,
      "outputs": []
    },
    {
      "cell_type": "code",
      "metadata": {
        "id": "zZW_yQp5Aytn"
      },
      "source": [
        "# Create feature and target variable for Classification problem\n",
        "X_clf=data_clf.drop(['Species'],axis=1) # features: SepalLengthCm', 'SepalWidthCm', 'PetalLengthCm', 'PetalWidthCm'\n",
        "y_clf=data_clf.Species # Target variable: Iris species"
      ],
      "execution_count": 89,
      "outputs": []
    },
    {
      "cell_type": "code",
      "metadata": {
        "id": "ruKAxp8FBbRR"
      },
      "source": [
        "# Create feature and target variable for Regression problem\n",
        "X_reg=data_reg.drop(['Profit'],axis=1) # features: \n",
        "y_reg=data_reg.Profit # Target variable: Is_Lead"
      ],
      "execution_count": 90,
      "outputs": []
    },
    {
      "cell_type": "code",
      "metadata": {
        "id": "UHU30vi7CIqE"
      },
      "source": [
        "# Import SelectKBest, chi2(score function for classification), f_regression (score function for regression)\n",
        "from sklearn.feature_selection import SelectKBest, chi2, f_regression"
      ],
      "execution_count": 91,
      "outputs": []
    },
    {
      "cell_type": "code",
      "metadata": {
        "id": "TaXeNqyLCXrh"
      },
      "source": [
        "# Create the object for SelectKBest and fit and transform the classification data\n",
        "# k is the number of features you want to select [here it's 2]\n",
        "X_clf_new=SelectKBest(score_func=chi2,k=2).fit_transform(X_clf,y_clf)"
      ],
      "execution_count": 92,
      "outputs": []
    },
    {
      "cell_type": "code",
      "metadata": {
        "colab": {
          "base_uri": "https://localhost:8080/"
        },
        "id": "YsV8jJdwCamC",
        "outputId": "33117a9c-4f51-4faa-ce06-1b0e401ad809"
      },
      "source": [
        "# Check the newly created variable for top two best features\n",
        "print(X_clf_new[:5])"
      ],
      "execution_count": 93,
      "outputs": [
        {
          "output_type": "stream",
          "text": [
            "[[1.4 0.2]\n",
            " [1.4 0.2]\n",
            " [1.3 0.2]\n",
            " [1.5 0.2]\n",
            " [1.4 0.2]]\n"
          ],
          "name": "stdout"
        }
      ]
    },
    {
      "cell_type": "code",
      "metadata": {
        "colab": {
          "base_uri": "https://localhost:8080/"
        },
        "id": "daXpL5JKCc9R",
        "outputId": "e037569c-81d8-4f7e-8b85-9aa4b081d385"
      },
      "source": [
        "# Compare the newly created values with feature set values to know the selected features\n",
        "print(X_clf.head())"
      ],
      "execution_count": 94,
      "outputs": [
        {
          "output_type": "stream",
          "text": [
            "   SepalLengthCm  SepalWidthCm  PetalLengthCm  PetalWidthCm\n",
            "0            5.1           3.5            1.4           0.2\n",
            "1            4.9           3.0            1.4           0.2\n",
            "2            4.7           3.2            1.3           0.2\n",
            "3            4.6           3.1            1.5           0.2\n",
            "4            5.0           3.6            1.4           0.2\n"
          ],
          "name": "stdout"
        }
      ]
    },
    {
      "cell_type": "markdown",
      "metadata": {
        "id": "RkJLP4-HE79Z"
      },
      "source": [
        "From the above we see that the best two predictors for Iris species are:\n",
        "\n",
        " - PetalLengthCm\n",
        "\n",
        " - PetalWidthCm"
      ]
    },
    {
      "cell_type": "code",
      "metadata": {
        "id": "UqxxBt3eCjRv"
      },
      "source": [
        "# Create the object for SelectKBest and fit and transform the regression data\n",
        "X_reg_new=SelectKBest(score_func=f_regression, k=2).fit_transform(X_reg,y_reg)"
      ],
      "execution_count": 95,
      "outputs": []
    },
    {
      "cell_type": "code",
      "metadata": {
        "colab": {
          "base_uri": "https://localhost:8080/"
        },
        "id": "ImLmvc0dDBFe",
        "outputId": "9dadb16a-faca-498b-be90-059f91140b88"
      },
      "source": [
        "# Check the newly created variable for top two best features\n",
        "print(X_reg_new[:5])"
      ],
      "execution_count": 96,
      "outputs": [
        {
          "output_type": "stream",
          "text": [
            "[[165349.2  471784.1 ]\n",
            " [162597.7  443898.53]\n",
            " [153441.51 407934.54]\n",
            " [144372.41 383199.62]\n",
            " [142107.34 366168.42]]\n"
          ],
          "name": "stdout"
        }
      ]
    },
    {
      "cell_type": "code",
      "metadata": {
        "colab": {
          "base_uri": "https://localhost:8080/"
        },
        "id": "QBEjN0NDEOSx",
        "outputId": "34efb160-7375-4dbe-f15e-b268e43204dd"
      },
      "source": [
        "# Compare the newly created values with feature set values to know the selected features\n",
        "print(X_reg.head())"
      ],
      "execution_count": 97,
      "outputs": [
        {
          "output_type": "stream",
          "text": [
            "   R&D Spend  Administration  Marketing Spend\n",
            "0  165349.20       136897.80        471784.10\n",
            "1  162597.70       151377.59        443898.53\n",
            "2  153441.51       101145.55        407934.54\n",
            "3  144372.41       118671.85        383199.62\n",
            "4  142107.34        91391.77        366168.42\n"
          ],
          "name": "stdout"
        }
      ]
    },
    {
      "cell_type": "markdown",
      "metadata": {
        "id": "HXx9Zpb5EUc7"
      },
      "source": [
        "From the above we see that the best two predictors for start up profit are:\n",
        "\n",
        " - R&D Spend\n",
        "\n",
        " - Marketing Spend"
      ]
    },
    {
      "cell_type": "markdown",
      "metadata": {
        "id": "jPspLEs0GApO"
      },
      "source": [
        "2. Feature Importance\n",
        "\n",
        "You can get the feature importance of each feature of your dataset by using the feature importance property of the model.\n",
        "Feature importance gives you a score for each feature of your data, the higher the score more important or relevant is the feature towards your output variable."
      ]
    },
    {
      "cell_type": "code",
      "metadata": {
        "colab": {
          "base_uri": "https://localhost:8080/",
          "height": 283
        },
        "id": "iJKN5xb6EYTk",
        "outputId": "e241a718-f26c-4c9c-b759-684deb016aa7"
      },
      "source": [
        "from sklearn.ensemble import ExtraTreesClassifier\n",
        "import matplotlib.pyplot as plt\n",
        "model = ExtraTreesClassifier()\n",
        "model.fit(X_clf,y_clf)\n",
        "print(model.feature_importances_) #use inbuilt class feature_importances of tree based classifiers\n",
        "#plot graph of feature importances for better visualization\n",
        "feat_importances = pd.Series(model.feature_importances_, index=X_clf.columns)\n",
        "feat_importances.nlargest(4).plot(kind='barh')\n",
        "plt.show()"
      ],
      "execution_count": 104,
      "outputs": [
        {
          "output_type": "stream",
          "text": [
            "[0.0866954  0.05128989 0.41857574 0.44343897]\n"
          ],
          "name": "stdout"
        },
        {
          "output_type": "display_data",
          "data": {
            "image/png": "[encoded data removed]",
            "text/plain": [
              "<Figure size 432x288 with 1 Axes>"
            ]
          },
          "metadata": {
            "tags": [],
            "needs_background": "light"
          }
        }
      ]
    },
    {
      "cell_type": "code",
      "metadata": {
        "id": "oAEfpkHAFQA7"
      },
      "source": [
        ""
      ],
      "execution_count": null,
      "outputs": []
    }
  ]
}