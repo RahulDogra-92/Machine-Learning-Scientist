{
  "nbformat": 4,
  "nbformat_minor": 0,
  "metadata": {
    "colab": {
      "name": "Regression",
      "provenance": [],
      "authorship_tag": "ABX9TyOZ2rdpc35EVggvr5kDelq5",
      "include_colab_link": true
    },
    "kernelspec": {
      "name": "python3",
      "display_name": "Python 3"
    },
    "language_info": {
      "name": "python"
    }
  },
  "cells": [
    {
      "cell_type": "markdown",
      "metadata": {
        "id": "view-in-github",
        "colab_type": "text"
      },
      "source": [
        "<a href=\"https://colab.research.google.com/github/RahulDogra-92/Machine-Learning-Scientist/blob/main/Regression.ipynb\" target=\"_parent\"><img src=\"https://colab.research.google.com/assets/colab-badge.svg\" alt=\"Open In Colab\"/></a>"
      ]
    },
    {
      "cell_type": "markdown",
      "metadata": {
        "id": "wWTy5F6tutdi"
      },
      "source": [
        "#Boston housing data"
      ]
    },
    {
      "cell_type": "code",
      "metadata": {
        "id": "A66byK7cvQtw"
      },
      "source": [
        "import numpy as np\n",
        "import pandas as pd\n",
        "import matplotlib.pyplot as plt\n",
        "import seaborn as sns"
      ],
      "execution_count": 214,
      "outputs": []
    },
    {
      "cell_type": "code",
      "metadata": {
        "colab": {
          "base_uri": "https://localhost:8080/"
        },
        "id": "McvRxn-Zuuuf",
        "outputId": "91d4292d-2724-4fa3-bc40-0cd15582af5b"
      },
      "source": [
        "boston = pd.read_csv('Boston.csv')\n",
        "print(boston.head())"
      ],
      "execution_count": 215,
      "outputs": [
        {
          "output_type": "stream",
          "text": [
            "      CRIM    ZN  INDUS  CHAS     NX  ...    TAX  PTRATIO       B  LSTAT  MEDV\n",
            "0  0.00632  18.0   2.31     0  0.538  ...  296.0     15.3  396.90   4.98  24.0\n",
            "1  0.02731   0.0   7.07     0  0.469  ...  242.0     17.8  396.90   9.14  21.6\n",
            "2  0.02729   0.0   7.07     0  0.469  ...  242.0     17.8  392.83   4.03  34.7\n",
            "3  0.03237   0.0   2.18     0  0.458  ...  222.0     18.7  394.63   2.94  33.4\n",
            "4  0.06905   0.0   2.18     0  0.458  ...  222.0     18.7  396.90   5.33  36.2\n",
            "\n",
            "[5 rows x 14 columns]\n"
          ],
          "name": "stdout"
        }
      ]
    },
    {
      "cell_type": "code",
      "metadata": {
        "colab": {
          "base_uri": "https://localhost:8080/"
        },
        "id": "FfqGwFn82kS2",
        "outputId": "3071ba6f-b230-4a18-f500-c5b668cccc9d"
      },
      "source": [
        "boston.shape"
      ],
      "execution_count": 216,
      "outputs": [
        {
          "output_type": "execute_result",
          "data": {
            "text/plain": [
              "(506, 14)"
            ]
          },
          "metadata": {
            "tags": []
          },
          "execution_count": 216
        }
      ]
    },
    {
      "cell_type": "code",
      "metadata": {
        "colab": {
          "base_uri": "https://localhost:8080/",
          "height": 301
        },
        "id": "hAup7ER6FAms",
        "outputId": "f80e24af-5fe4-4bef-ad38-5e32465cd242"
      },
      "source": [
        "sns.heatmap(boston.corr());"
      ],
      "execution_count": 217,
      "outputs": [
        {
          "output_type": "display_data",
          "data": {
            "image/png": "[encoded data removed]",
            "text/plain": [
              "<Figure size 432x288 with 2 Axes>"
            ]
          },
          "metadata": {
            "tags": [],
            "needs_background": "light"
          }
        }
      ]
    },
    {
      "cell_type": "markdown",
      "metadata": {
        "id": "cOq09tSLvpHp"
      },
      "source": [
        "#Creating feature and target arrays\n"
      ]
    },
    {
      "cell_type": "code",
      "metadata": {
        "id": "yZ4Me6Ngvq5J"
      },
      "source": [
        "X = boston.drop('MEDV', axis=1).values\n",
        "y = boston['MEDV'].values"
      ],
      "execution_count": 218,
      "outputs": []
    },
    {
      "cell_type": "code",
      "metadata": {
        "colab": {
          "base_uri": "https://localhost:8080/"
        },
        "id": "S0-G27y2529V",
        "outputId": "f75316b2-5ba2-4fc0-8709-0dbc535bf96e"
      },
      "source": [
        "print(X.ndim, y.ndim)\n",
        "print(X.shape, y.shape)"
      ],
      "execution_count": 219,
      "outputs": [
        {
          "output_type": "stream",
          "text": [
            "2 1\n",
            "(506, 13) (506,)\n"
          ],
          "name": "stdout"
        }
      ]
    },
    {
      "cell_type": "markdown",
      "metadata": {
        "id": "xy9Nm9bIv37k"
      },
      "source": [
        "#Predicting house value from a single feature"
      ]
    },
    {
      "cell_type": "code",
      "metadata": {
        "colab": {
          "base_uri": "https://localhost:8080/"
        },
        "id": "T7zm6jxkvxLd",
        "outputId": "4802aa1f-1180-43e7-a339-70e5bd8c8be9"
      },
      "source": [
        "X_rooms = X[:,5]\n",
        "type(X_rooms), type(y)"
      ],
      "execution_count": 220,
      "outputs": [
        {
          "output_type": "execute_result",
          "data": {
            "text/plain": [
              "(numpy.ndarray, numpy.ndarray)"
            ]
          },
          "metadata": {
            "tags": []
          },
          "execution_count": 220
        }
      ]
    },
    {
      "cell_type": "code",
      "metadata": {
        "colab": {
          "base_uri": "https://localhost:8080/"
        },
        "id": "NbKbtU2_8GPy",
        "outputId": "a255ea52-883e-4f6c-a2a7-e405ef081024"
      },
      "source": [
        "print(X_rooms.ndim, y.ndim)\n",
        "print(X_rooms.shape, y.shape)"
      ],
      "execution_count": 221,
      "outputs": [
        {
          "output_type": "stream",
          "text": [
            "1 1\n",
            "(506,) (506,)\n"
          ],
          "name": "stdout"
        }
      ]
    },
    {
      "cell_type": "code",
      "metadata": {
        "colab": {
          "base_uri": "https://localhost:8080/"
        },
        "id": "gseMXZvx6FK4",
        "outputId": "8521dbc1-2dbd-4f50-e6ad-ed8894b38356"
      },
      "source": [
        "print(X_rooms.ndim, y.ndim)\n",
        "print(X_rooms.shape, y.shape)"
      ],
      "execution_count": 222,
      "outputs": [
        {
          "output_type": "stream",
          "text": [
            "1 1\n",
            "(506,) (506,)\n"
          ],
          "name": "stdout"
        }
      ]
    },
    {
      "cell_type": "code",
      "metadata": {
        "id": "wsILDgU9wBPo"
      },
      "source": [
        "y = y.reshape(-1, 1) #Now trying to reshape with (-1, 1) . We have provided column as 1 but rows as unknown\n",
        "X_rooms = X_rooms.reshape(-1, 1)"
      ],
      "execution_count": 223,
      "outputs": []
    },
    {
      "cell_type": "code",
      "metadata": {
        "colab": {
          "base_uri": "https://localhost:8080/"
        },
        "id": "6_qTk4i88Mq5",
        "outputId": "84b2c23a-6e8c-479f-a7c7-64b27a4f70ad"
      },
      "source": [
        "print(X_rooms.ndim, y.ndim)\n",
        "print(X_rooms.shape, y.shape)"
      ],
      "execution_count": 224,
      "outputs": [
        {
          "output_type": "stream",
          "text": [
            "2 2\n",
            "(506, 1) (506, 1)\n"
          ],
          "name": "stdout"
        }
      ]
    },
    {
      "cell_type": "markdown",
      "metadata": {
        "id": "B3yMtDBNwTo6"
      },
      "source": [
        "#Plotting house value vs. number of rooms"
      ]
    },
    {
      "cell_type": "code",
      "metadata": {
        "colab": {
          "base_uri": "https://localhost:8080/",
          "height": 279
        },
        "id": "vttGXHQewLQk",
        "outputId": "d3fe5e41-35f7-4fd9-ecba-78a7aa798182"
      },
      "source": [
        "plt.scatter(X_rooms, y)\n",
        "plt.ylabel('Value of house /1000 ($)')\n",
        "plt.xlabel('Number of rooms')\n",
        "plt.show();"
      ],
      "execution_count": 225,
      "outputs": [
        {
          "output_type": "display_data",
          "data": {
            "image/png": "[encoded data removed]",
            "text/plain": [
              "<Figure size 432x288 with 1 Axes>"
            ]
          },
          "metadata": {
            "tags": [],
            "needs_background": "light"
          }
        }
      ]
    },
    {
      "cell_type": "markdown",
      "metadata": {
        "id": "MMgZ-TorwowX"
      },
      "source": [
        "#Fitting a regression model"
      ]
    },
    {
      "cell_type": "code",
      "metadata": {
        "id": "-R5FQFh4wcv0"
      },
      "source": [
        "from sklearn.linear_model import LinearRegression\n",
        "reg = LinearRegression()\n",
        "reg.fit(X_rooms, y)\n",
        "prediction_space = np.linspace(min(X_rooms),max(X_rooms)).reshape(-1, 1)"
      ],
      "execution_count": 226,
      "outputs": []
    },
    {
      "cell_type": "code",
      "metadata": {
        "colab": {
          "base_uri": "https://localhost:8080/",
          "height": 265
        },
        "id": "q4wOTT1Xw6d7",
        "outputId": "b83c0d6a-dbc3-46d4-8b1b-e533570f45dd"
      },
      "source": [
        "plt.scatter(X_rooms, y, color='blue')\n",
        "plt.plot(prediction_space, reg.predict(prediction_space),color='black', linewidth=3)\n",
        "plt.show()"
      ],
      "execution_count": 227,
      "outputs": [
        {
          "output_type": "display_data",
          "data": {
            "image/png": "[encoded data removed]",
            "text/plain": [
              "<Figure size 432x288 with 1 Axes>"
            ]
          },
          "metadata": {
            "tags": [],
            "needs_background": "light"
          }
        }
      ]
    },
    {
      "cell_type": "markdown",
      "metadata": {
        "id": "lUhyZrgFxaaB"
      },
      "source": [
        "#Linear regression on all features"
      ]
    },
    {
      "cell_type": "code",
      "metadata": {
        "colab": {
          "base_uri": "https://localhost:8080/"
        },
        "id": "_QQUW9xvxMMR",
        "outputId": "7603eeb3-267e-4926-abfd-26fc3a9f0ae5"
      },
      "source": [
        "from sklearn.model_selection import train_test_split\n",
        "from sklearn.linear_model import LinearRegression\n",
        "X_train, X_test, y_train, y_test = train_test_split(X, y,test_size = 0.3, random_state=42)\n",
        "reg_all = LinearRegression()\n",
        "reg_all.fit(X_train, y_train)\n",
        "y_pred = reg_all.predict(X_test)\n",
        "reg_all.score(X_test, y_test)"
      ],
      "execution_count": 228,
      "outputs": [
        {
          "output_type": "execute_result",
          "data": {
            "text/plain": [
              "0.7112260057484925"
            ]
          },
          "metadata": {
            "tags": []
          },
          "execution_count": 228
        }
      ]
    },
    {
      "cell_type": "code",
      "metadata": {
        "colab": {
          "base_uri": "https://localhost:8080/"
        },
        "id": "NlRbWVdQGZkr",
        "outputId": "536ac2db-049a-4f2a-cdf8-6d2506ed4297"
      },
      "source": [
        "from sklearn.metrics import mean_squared_error\n",
        "# Compute and print RMSE\n",
        "rmse = np.sqrt(mean_squared_error(y_test, y_pred))\n",
        "rmse"
      ],
      "execution_count": 229,
      "outputs": [
        {
          "output_type": "execute_result",
          "data": {
            "text/plain": [
              "4.638689926172827"
            ]
          },
          "metadata": {
            "tags": []
          },
          "execution_count": 229
        }
      ]
    },
    {
      "cell_type": "markdown",
      "metadata": {
        "id": "bf7GMGPRyVvR"
      },
      "source": [
        "#Cross-validation in scikit-learn"
      ]
    },
    {
      "cell_type": "code",
      "metadata": {
        "colab": {
          "base_uri": "https://localhost:8080/"
        },
        "id": "iZjziwxqyW4R",
        "outputId": "e41d0340-1d0a-4699-d8e4-6bf3b8af2805"
      },
      "source": [
        "from sklearn.model_selection import cross_val_score \n",
        "from sklearn.linear_model import LinearRegression \n",
        "reg = LinearRegression()\n",
        "cv_results = cross_val_score(reg, X, y, cv=5)\n",
        "print(cv_results)"
      ],
      "execution_count": 230,
      "outputs": [
        {
          "output_type": "stream",
          "text": [
            "[ 0.63919994  0.71386698  0.58702344  0.07923081 -0.25294154]\n"
          ],
          "name": "stdout"
        }
      ]
    },
    {
      "cell_type": "code",
      "metadata": {
        "colab": {
          "base_uri": "https://localhost:8080/"
        },
        "id": "EYQPhmj9zRnY",
        "outputId": "5f4e6162-d6fc-42ab-c617-e22ca0d6c36c"
      },
      "source": [
        "np.mean(cv_results)\n",
        "print(\"Average 5-Fold CV Score: {}\".format(np.mean(cv_results)))\n"
      ],
      "execution_count": 232,
      "outputs": [
        {
          "output_type": "stream",
          "text": [
            "Average 5-Fold CV Score: 0.35327592439587685\n"
          ],
          "name": "stdout"
        }
      ]
    },
    {
      "cell_type": "markdown",
      "metadata": {
        "id": "GLE-AJz3zfmZ"
      },
      "source": [
        "#Ridge regression in scikit-learn"
      ]
    },
    {
      "cell_type": "code",
      "metadata": {
        "colab": {
          "base_uri": "https://localhost:8080/"
        },
        "id": "KaZAGy_gzWjU",
        "outputId": "339efb35-a538-4099-84ef-d904a295a837"
      },
      "source": [
        "from sklearn.linear_model import Ridge\n",
        "X_train, X_test, y_train, y_test = train_test_split(X, y, test_size = 0.3, random_state=42)\n",
        "ridge = Ridge(alpha=0.1, normalize=True)\n",
        "ridge.fit(X_train, y_train)\n",
        "ridge_pred = ridge.predict(X_test)\n",
        "ridge.score(X_test, y_test)"
      ],
      "execution_count": 233,
      "outputs": [
        {
          "output_type": "execute_result",
          "data": {
            "text/plain": [
              "0.6996938275127309"
            ]
          },
          "metadata": {
            "tags": []
          },
          "execution_count": 233
        }
      ]
    },
    {
      "cell_type": "markdown",
      "metadata": {
        "id": "mzBQtRnOz19K"
      },
      "source": [
        "#Lasso regression in scikit-learn"
      ]
    },
    {
      "cell_type": "code",
      "metadata": {
        "colab": {
          "base_uri": "https://localhost:8080/"
        },
        "id": "o-nHItvIzpfn",
        "outputId": "1762ec28-d33d-45a3-afcc-304a024a4f95"
      },
      "source": [
        "from sklearn.linear_model import Lasso\n",
        "X_train, X_test, y_train, y_test = train_test_split(X, y, test_size = 0.3, random_state=42)\n",
        "lasso = Lasso(alpha=0.1, normalize=True) #all variables are on same scale\n",
        "lasso.fit(X_train, y_train)\n",
        "lasso_pred = lasso.predict(X_test) \n",
        "lasso.score(X_test, y_test)"
      ],
      "execution_count": 234,
      "outputs": [
        {
          "output_type": "execute_result",
          "data": {
            "text/plain": [
              "0.5950229535328551"
            ]
          },
          "metadata": {
            "tags": []
          },
          "execution_count": 234
        }
      ]
    },
    {
      "cell_type": "markdown",
      "metadata": {
        "id": "cs-a8KCK0C69"
      },
      "source": [
        "#Lasso regression for feature selection"
      ]
    },
    {
      "cell_type": "code",
      "metadata": {
        "colab": {
          "base_uri": "https://localhost:8080/",
          "height": 296
        },
        "id": "kOPXDmRIz9tp",
        "outputId": "61f88e41-abf0-4473-a045-cd76d22e04f3"
      },
      "source": [
        "from sklearn.linear_model import Lasso \n",
        "names = boston.drop('MEDV', axis=1).columns \n",
        "lasso = Lasso(alpha=0.1)\n",
        "lasso_coef = lasso.fit(X, y).coef_\n",
        "_ = plt.plot(range(len(names)), lasso_coef)\n",
        "_ = plt.xticks(range(len(names)), names, rotation=60)\n",
        "_ = plt.ylabel('Coefficients') \n",
        "plt.show()"
      ],
      "execution_count": 235,
      "outputs": [
        {
          "output_type": "display_data",
          "data": {
            "image/png": "[encoded data removed]",
            "text/plain": [
              "<Figure size 432x288 with 1 Axes>"
            ]
          },
          "metadata": {
            "tags": [],
            "needs_background": "light"
          }
        }
      ]
    },
    {
      "cell_type": "code",
      "metadata": {
        "id": "JmFmfmCt0hkL"
      },
      "source": [
        ""
      ],
      "execution_count": 235,
      "outputs": []
    }
  ]
}